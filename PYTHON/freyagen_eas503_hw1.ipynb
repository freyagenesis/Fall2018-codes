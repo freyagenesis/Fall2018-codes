{
 "cells": [
  {
   "cell_type": "markdown",
   "metadata": {},
   "source": [
    "## EAS 503 Homework 1 Submission\n",
    "Name - Freya Genesis D Mello\n",
    "\n",
    "**Make sure that you rename the notebook file to *replacewithubitname*_eas503_hw1.ipynb**\n",
    "\n",
    "\n",
    "### Submission Details\n",
    "* **Due Date** - September 25, 2018 by 11:59 PM EST. All assignments have to be submitted using UBLearns.\n",
    "* **Number of Problems** - 4\n",
    "* **Maximum points** - 50\n",
    "* **Collaboration policy**\n",
    " - Every student has to submit individual homeworks\n",
    " - Any collaboration, in the form of discussion, with other members of the class is permitted, as long as the names of the collaborating members are explicitly stated on top of the submitted homework.\n",
    " - Any overlap with another submission or material from Internet will be awarded an F.\n",
    "* **Late submission policy** - _No late submissions allowed_\n",
    "* **Submission Format** - Enter code for each problem in the appropriate cell below. You may use multiple cells for a single problem to improve readability.\n",
    "* **Testing Protocol** - To grade, we will simply execute your notebook from command line using the following command:\n",
    "```shell\n",
    "jupyter nbconvert --execute <notebook>\n",
    "```\n",
    "Please make sure that your notebook produces the desired output with the above command, before submitting."
   ]
  },
  {
   "cell_type": "markdown",
   "metadata": {},
   "source": [
    "### Problem 1 - Testing for  Fibonacci Number (10 Points)\n",
    "Develop functions to handle [Fibonacci numbers](http://mathworld.wolfram.com/FibonacciNumber.html). Try to design the quickest possible algorithm and record the time taken for the code to run.\n",
    "\n",
    "Test if a number belongs to the Fibonacci series, using `if-else` conditions. The logic of testing if a number, $n$, belongs to the Fibonacci series is: if one or both of $(5*n^2 + 4)$ or $(5*n^2 – 4)$ is a perfect square.\n",
    "\n",
    "Here is what you need to do:\n",
    "1. You will need to implement the function `fibonacciGenerator`, which takes no inputs. The function should return a Python `list` of length 25, with first 25 Fibonacci numbers.\n",
    "2. You will need to define a function `fibonacciTester`, which takes a single number as input, and returns `true` if the number belongs to the Fibonacci series, and `false` otherwise. "
   ]
  },
  {
   "cell_type": "code",
   "execution_count": 17,
   "metadata": {},
   "outputs": [
    {
     "name": "stdout",
     "output_type": "stream",
     "text": [
      "[0, 1, 1, 3, 5, 7, 9, 11, 13, 15, 17, 19, 21, 23, 25, 27, 29, 31, 33, 35, 37, 39, 41, 43, 45]\n",
      "The code took 0 seconds.\n"
     ]
    }
   ],
   "source": [
    "# function to generate the fibonacci series\n",
    "def fibonacciGenerator():\n",
    "    fibo_list = []\n",
    "    for i in range(0, 25):\n",
    "        if i == 0:\n",
    "            fibo_list.append(0)\n",
    "        elif i == 1:\n",
    "            fibo_list.append(1)\n",
    "        else:\n",
    "            fibo_list.append((i-1) + (i-2))\n",
    "    return fibo_list\n",
    "        \n",
    "import time\n",
    "st = time.time()\n",
    "l = fibonacciGenerator()\n",
    "print(l)\n",
    "en = time.time()\n",
    "print(\"The code took %d seconds.\"%(en - st))"
   ]
  },
  {
   "cell_type": "code",
   "execution_count": 20,
   "metadata": {},
   "outputs": [
    {
     "name": "stdout",
     "output_type": "stream",
     "text": [
      "(1, True)\n",
      "(2, True)\n",
      "(3, True)\n",
      "(4, False)\n",
      "(5, True)\n",
      "(6, False)\n",
      "(7, False)\n",
      "(8, True)\n",
      "(9, False)\n",
      "(10, False)\n",
      "(11, False)\n",
      "(12, False)\n",
      "(13, True)\n",
      "(14, False)\n",
      "(15, False)\n",
      "(16, False)\n",
      "(17, False)\n",
      "(18, False)\n",
      "(19, False)\n",
      "(20, False)\n",
      "The code took 0 seconds.\n"
     ]
    }
   ],
   "source": [
    "def fibonacciTester(n):\n",
    "    pow_add = math.sqrt((5*math.pow(n, 2))+4)\n",
    "    pow_sub = math.sqrt((5*math.pow(n, 2))-4)\n",
    "    if pow_add == round(pow_add) or pow_sub == round(pow_sub):\n",
    "        return n, True\n",
    "    else:\n",
    "        return n, False\n",
    "\n",
    "import time\n",
    "import math\n",
    "st = time.time()\n",
    "for i in range(1,21):\n",
    "    vals = fibonacciTester(i)\n",
    "    print(vals)\n",
    "en = time.time()\n",
    "print(\"The code took %d seconds.\"%(en - st))"
   ]
  },
  {
   "cell_type": "markdown",
   "metadata": {},
   "source": [
    "### Problem 2 - Handling Exceptions (10 Points)\n",
    "In this problem you will read from a text file (**data_p2.txt**) included in the assignment. Please download it and store it in the same directory as this notebook. The code for reading data from the file is given below. You need to store the data and perform a simple mathematical operation on each data point. Each line is _supposed_ to contain a floating point number. But what you will observe is that some lines might have erroneous entries. You need to ignore those lines (Hint: Use `Exception` handling). \n",
    "\n",
    "The idea is to implement a function, `computeMedian()`, which reads in a file and computes the median of the numbers and returns the output. You may use the inbuilt function `sort` when computing the median.\n",
    "\n",
    "_DO NOT USE ANY INBUILT OR OTHER FUNCTION TO DIRECTLY COMPUTE MEDIAN_"
   ]
  },
  {
   "cell_type": "code",
   "execution_count": 21,
   "metadata": {},
   "outputs": [],
   "source": [
    "def dummyFileReader():\n",
    "    with open('data_p2.txt','r') as f: #we open the file in 'read' mode. The 'with' clause is similar to 'finally' clause\n",
    "        for line in f: #iterate over the file line by line\n",
    "            s = line.strip() #strip() removes the endline character at the end of the line. Line is of type 'str' \n",
    "            try:\n",
    "                mylist.append(float(s))\n",
    "            except ValueError:\n",
    "                pass\n",
    "    return mylist"
   ]
  },
  {
   "cell_type": "code",
   "execution_count": 22,
   "metadata": {},
   "outputs": [
    {
     "name": "stdout",
     "output_type": "stream",
     "text": [
      "0.499675\n"
     ]
    }
   ],
   "source": [
    "def computeMedian():\n",
    "    mylist = dummyFileReader()\n",
    "    mylist.sort()\n",
    "    n = len(mylist)\n",
    "    if n % 2 == 0:\n",
    "        # if the list contains even number of values\n",
    "        return (mylist[n / 2] + mylist[n / 2 - 1]) / 2.0\n",
    "    # if list contains odd number of values\n",
    "    return mylist[n/2]\n",
    "    \n",
    "mylist = []\n",
    "# printing the median\n",
    "print(computeMedian())\n"
   ]
  },
  {
   "cell_type": "markdown",
   "metadata": {},
   "source": [
    "Answer:\n",
    "    \n",
    "   Using Exception handling, a package specific to the type of error caught here is \"Value Error\" as the file coontains values other than float. \n",
    "   The computed median is 0.499675 on invoking the computeMedian() function."
   ]
  },
  {
   "cell_type": "markdown",
   "metadata": {},
   "source": [
    "### Problem 3 - Benchmarking Dictionary Performance (10 Points)\n",
    "We want to check the peformance of the Python inbuilt `del` routine for dropping elements from a dictionary. The question that we want answer for is: \n",
    "_Does the time required to delete an element from a Python dictionary depend on the size of the dictionary and on the location of the target element?_\n",
    "\n",
    "In each step of the experiment do the following: \n",
    "- Create a dictionary of integers from 1 to N, with your own desired keys. \n",
    "- Within a loop, delete the $i^{th}$ element. Measure the time taken to delete the element (Hint: use the `time` package in Python).\n",
    "\n",
    "Conduct the above experiment for $N = 1,000,000$ and $i$ ranging from $1$ to $1,000,000$ in steps of $10,000$. Make sure that you are recreating the Python dictionary every time. Save the times in a list (let us name it `timeMillion`).\n",
    "\n",
    "Repeat the above experiment, but set $N = 10,000,000$. This time, vary $i$ from $1$ to $10,000,000$ in steps of $100,000$. Save the times for this experiment in another list, say, `time10Million`.\n",
    "\n",
    "Plot the two lists using the `matplotlib.pyplot` package. See below for a sample code. You can plot both lists in the same chart to compare.\n",
    "\n",
    "Using the plots, answer the following (create a markup cell after your code cell(s) and enter your responses):\n",
    "1. Does the cost of deleting an element depend on the dictionary size?\n",
    "2. Does the cost of deleting an element depend on the location of the deleted element?\n",
    "\n"
   ]
  },
  {
   "cell_type": "code",
   "execution_count": 54,
   "metadata": {
    "scrolled": false
   },
   "outputs": [],
   "source": [
    "# This cell is only for demonstration purposes, you can reuse parts of this code to create your own plots\n",
    "# Using matplotlib for plotting\n",
    "import matplotlib.pyplot as plt\n",
    "%matplotlib inline \n",
    "# above line is needed to make sure that the plots are displayed in the notebook.\n",
    "\n",
    "#generate some dummy data\n",
    "x = list(range(0, 20)) # generate a list\n",
    "y = [x1**2+2*x1 for x1 in x] # create a new list using the original list. Note the Pythonic inline creation of lists.\n",
    "y1 = [x1**2.3 for x1 in x]\n",
    "plt.plot(x,y)\n",
    "plt.plot(x,y1)"
   ]
  },
  {
   "cell_type": "code",
   "execution_count": 27,
   "metadata": {
    "scrolled": true
   },
   "outputs": [
    {
     "data": {
      "image/png": "[encoded data removed]",
      "text/plain": [
       "<Figure size 432x288 with 1 Axes>"
      ]
     },
     "metadata": {},
     "output_type": "display_data"
    }
   ],
   "source": [
    "import matplotlib.pyplot as plt\n",
    "import time\n",
    "import numpy as np\n",
    "    \n",
    "%matplotlib inline \n",
    "\n",
    "# function to delete the kth element\n",
    "def del_element(dicts, k):\n",
    "    import time\n",
    "    st = time.time()\n",
    "    #code to delete the kth element\n",
    "    del dicts[k]\n",
    "    en = time.time()\n",
    "    return (en - st)\n",
    "\n",
    "dict_mill = {}\n",
    "dict_10_mill = {}\n",
    "dict_mill_copy = {}\n",
    "dict_10_mill_copy = {}\n",
    "res_mill = []\n",
    "res_10_mill = []\n",
    "vals = 0\n",
    "t_vals = 0\n",
    "\n",
    "for i in range(100):\n",
    "    for j in range(10000):\n",
    "        dict_mill[vals] = \"key\"+str(vals)\n",
    "        vals+=1\n",
    "        \n",
    "vals = 0      \n",
    "\n",
    "for i in range(1000):\n",
    "    for j in range(10000):\n",
    "        dict_10_mill[vals] = \"key\"+str(vals)\n",
    "        vals+=1\n",
    "        \n",
    "N = 1000000\n",
    "\n",
    "# recording execution time\n",
    "for i in range(0, N, 10000):\n",
    "    dict_mill_copy = dict_mill\n",
    "    st = time.time()\n",
    "    del dict_mill_copy[i]\n",
    "    en = time.time()\n",
    "    res_mill.append(en - st)\n",
    "\n",
    "N = 10000000\n",
    "\n",
    "for i in range(0, N, 100000):\n",
    "    dict_10_mill_copy = dict_10_mill\n",
    "    st = time.time()\n",
    "    del dict_10_mill_copy[i]\n",
    "    en = time.time()\n",
    "    res_10_mill.append(en - st)\n",
    "\n",
    "plt.plot(res_mill, color = \"pink\")\n",
    "plt.plot(res_10_mill, color = \"purple\")\n",
    "plt.show()"
   ]
  },
  {
   "cell_type": "code",
   "execution_count": 28,
   "metadata": {},
   "outputs": [
    {
     "name": "stdout",
     "output_type": "stream",
     "text": [
      "1.0800361633300782e-06\n",
      "8.916854858398438e-07\n"
     ]
    }
   ],
   "source": [
    "#using numpy library functions\n",
    "print(np.mean(res_mill)) #dictionary of 1 million \n",
    "print(np.mean(res_10_mill)) #dictionary of 10 million"
   ]
  },
  {
   "cell_type": "markdown",
   "metadata": {},
   "source": [
    "Answer:\n",
    "   On an average it takes 1.0800361633300782e-06 seconds to delete an element from the dictionary of 1million and 8.916854858398438e-07 from the dictionary of 10million.\n",
    "    \n",
    "   The cost of deleting the element does not depend on the dictionary size.\n",
    "   The cost of deleting an element does not depend on the location of the deleted element, either. Each time the program is run, it is observed that the time taken to delete the elements keep changing based on its location in the dictionary and the processor load and speed."
   ]
  },
  {
   "cell_type": "markdown",
   "metadata": {},
   "source": [
    "## Problem 4 - The Two Envelopes Problem (20 Points)\n",
    "The Two Envelopes problem is an interesting decision theory problem.\n",
    "\n",
    "> Consider that you are given two indistinguishable envelopes, each containing money, one contains twice as much as the other. You may pick one envelope and keep the money it contains. Having chosen an envelope at will, but before inspecting it, you are given the chance to switch envelopes. Should you switch?\n",
    "\n",
    "> The game is this: _stick_ or _switch_; It seems obvious that there is no point in switching envelopes as the situation is symmetric. However, because you stand to gain twice as much money if you switch while risking only a loss of half of what you currently have, it is possible to argue that it is more beneficial to switch.The problem is to show what is wrong with this argument.\n",
    "\n",
    "**Two Envelopes problem**: Implement a function, called `simulateProblem()`, that does the game simulation for the two envelopes problem. Run the simulation 1000 times to figure out the empirical (observed) probability of gaining more money when switching and gaining more money when sticking to the original choice. Each simulation operates as follows:\n",
    "1. First, randomly pick an envelopes configuration out of the two possible configurations, $(A,2A)$ or $(2A,A)$. In the first configuration, the second envelope has twice the money and in the second configuration, the first envelope has twice the money.\n",
    "2. Next, randomly pick one of the two envelopes. \n",
    "3. Finally, randomly choose to either stick or switch. The program checks if you won (the envelope that picked has more money) or not (the envelope that picked has less money). In case of winning, record if the winning was because of _sticking_ or _switching_.\n",
    "\n",
    "You can perform the _random_ choice as follows, using the `np.random.randint()` method.\n",
    "```python\n",
    "import numpy as np\n",
    "print(np.random.randint(2))\n",
    "```\n",
    "The `simulateProblem()` function takes no arguments and returns two values, first is a boolean output which is `True` if you win and `False` if you lose. In case of a win, the second output is `True` if the win was due to _sticking_ and `False` if the win was due to _switching_.\n",
    "\n",
    "Once the method `simulateProblem()` that does the above steps and returns _sticking_,or _switching_, depending on the win/loss scenario, run the method 1000 times and count the number of times the win was due to _sticking_ to the pick in Step 2, and number of times the win was due to _switching_ the envelope."
   ]
  },
  {
   "cell_type": "code",
   "execution_count": 29,
   "metadata": {},
   "outputs": [
    {
     "name": "stdout",
     "output_type": "stream",
     "text": [
      "Won By Sticking 229\n",
      "Won By Switching 259\n"
     ]
    }
   ],
   "source": [
    "def simulateProblem():\n",
    "    # Configurations (A,2A) or (2A,A)\n",
    "    # Envelope A, 2A\n",
    "    # STICK = TRUE\n",
    "    # SWITCH = FALSE\n",
    "    configuration = np.random.randint(2)\n",
    "    envelope = np.random.randint(2)\n",
    "    stick_or_switch = np.random.randint(2)\n",
    "    if (configuration == 0):\n",
    "        if(envelope == 0):\n",
    "            if(stick_or_switch == 0):\n",
    "                return False,True\n",
    "            elif(stick_or_switch == 1):\n",
    "                return True,False\n",
    "        elif(envelope == 1):\n",
    "            if(stick_or_switch == 0):\n",
    "                return True,True\n",
    "            elif(stick_or_switch == 1):\n",
    "                return False,False\n",
    "    elif(configuration == 1):\n",
    "        if(envelope == 0):\n",
    "            if(stick_or_switch == 0):\n",
    "                return True,True\n",
    "            elif(stick_or_switch == 1):\n",
    "                return False,False\n",
    "        elif(envelope == 1):\n",
    "            if(stick_or_switch == 0):\n",
    "                return False,True\n",
    "            elif(stick_or_switch == 1):\n",
    "                return True,False\n",
    "\n",
    "import numpy as np\n",
    "win_with_sticking = 0\n",
    "win_with_switching = 0\n",
    "for i in range(1000):\n",
    "    wl,ss = simulateProblem()\n",
    "    if(wl == True & ss == True):\n",
    "        win_with_sticking = win_with_sticking + 1\n",
    "    elif(wl == True & ss == False):\n",
    "        win_with_switching = win_with_switching + 1\n",
    "print(\"Won By Sticking %d\"%win_with_sticking)\n",
    "print(\"Won By Switching %d\"%win_with_switching)\n"
   ]
  },
  {
   "cell_type": "markdown",
   "metadata": {},
   "source": [
    "### Which is better - sticking or switching?\n",
    "Use the simulation results to figure out the right answer."
   ]
  },
  {
   "cell_type": "markdown",
   "metadata": {},
   "source": [
    "Answer:\n",
    "    Each time the program is run, the number of wins by sticking or by switching keep varying so we cannot choose which is better."
   ]
  }
 ],
 "metadata": {
  "kernelspec": {
   "display_name": "Python 2",
   "language": "python",
   "name": "python2"
  },
  "language_info": {
   "codemirror_mode": {
    "name": "ipython",
    "version": 2
   },
   "file_extension": ".py",
   "mimetype": "text/x-python",
   "name": "python",
   "nbconvert_exporter": "python",
   "pygments_lexer": "ipython2",
   "version": "2.7.15"
  }
 },
 "nbformat": 4,
 "nbformat_minor": 2
}
